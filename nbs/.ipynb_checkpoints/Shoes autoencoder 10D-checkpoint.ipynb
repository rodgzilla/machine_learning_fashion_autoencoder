{
 "cells": [
  {
   "cell_type": "code",
   "execution_count": 1,
   "metadata": {},
   "outputs": [
    {
     "name": "stderr",
     "output_type": "stream",
     "text": [
      "Using TensorFlow backend.\n"
     ]
    }
   ],
   "source": [
    "%matplotlib inline\n",
    "import numpy as np\n",
    "import keras\n",
    "from functools import reduce\n",
    "\n",
    "import matplotlib.pyplot as plt\n",
    "\n",
    "from keras.models         import Sequential\n",
    "\n",
    "from keras.layers         import Dense\n",
    "from keras.layers         import Convolution2D\n",
    "from keras.layers         import AveragePooling2D\n",
    "from keras.layers         import UpSampling2D\n",
    "from keras.layers         import Reshape\n",
    "from keras.layers         import Flatten\n",
    "from keras.optimizers     import Adam\n",
    "from keras.utils.np_utils import to_categorical\n",
    "\n",
    "path_to_fashion_mnist = '../../datasets/fashion-mnist/'\n",
    "\n",
    "import sys\n",
    "sys.path.insert(0, path_to_fashion_mnist)\n",
    "from utils import mnist_reader"
   ]
  },
  {
   "cell_type": "code",
   "execution_count": 2,
   "metadata": {
    "collapsed": true
   },
   "outputs": [],
   "source": [
    "encoding_size = 10\n",
    "batch_size    = 64"
   ]
  },
  {
   "cell_type": "code",
   "execution_count": 3,
   "metadata": {
    "collapsed": true
   },
   "outputs": [],
   "source": [
    "X_train, y_train = mnist_reader.load_mnist(path_to_fashion_mnist + 'data/fashion', kind = 'train')\n",
    "X_train          = X_train.reshape(-1, 28, 28, 1)\n",
    "X_train          = (X_train - X_train.mean()) / X_train.std()"
   ]
  },
  {
   "cell_type": "code",
   "execution_count": 4,
   "metadata": {},
   "outputs": [
    {
     "data": {
      "text/plain": [
       "(18000, 28, 28, 1)"
      ]
     },
     "execution_count": 4,
     "metadata": {},
     "output_type": "execute_result"
    }
   ],
   "source": [
    "X_shoes = X_train[reduce(np.logical_or, (y_train == 5, y_train == 7, y_train == 9))]\n",
    "X_shoes.shape"
   ]
  },
  {
   "cell_type": "code",
   "execution_count": 5,
   "metadata": {
    "collapsed": true
   },
   "outputs": [],
   "source": [
    "encoder = Sequential([\n",
    "    Convolution2D(32, 3, padding = 'same', input_shape = (28, 28, 1), activation = 'relu'),\n",
    "    Convolution2D(32, 3, padding = 'same', activation = 'relu'),\n",
    "    AveragePooling2D(),\n",
    "    Convolution2D(64, 3, padding = 'same', activation = 'relu'),\n",
    "    Convolution2D(64, 3, padding = 'same', activation = 'relu'),    \n",
    "    Flatten(),\n",
    "    Dense(encoding_size, activation = 'tanh')\n",
    "])"
   ]
  },
  {
   "cell_type": "code",
   "execution_count": 6,
   "metadata": {
    "collapsed": true
   },
   "outputs": [],
   "source": [
    "decoder = Sequential([\n",
    "    Dense(49, input_shape = (encoding_size,), activation = 'relu'),\n",
    "    Reshape((7, 7, 1)),\n",
    "    Convolution2D(128, 3, padding = 'same', activation = 'relu'),\n",
    "    UpSampling2D(),\n",
    "    Convolution2D(64, 3, padding = 'same', activation = 'relu'),\n",
    "    UpSampling2D(),\n",
    "    Convolution2D(32, 3, padding = 'same', activation = 'relu'),\n",
    "    Convolution2D(1, 3, padding = 'same', activation = 'tanh')\n",
    "])"
   ]
  },
  {
   "cell_type": "code",
   "execution_count": 7,
   "metadata": {
    "collapsed": true
   },
   "outputs": [],
   "source": [
    "autoencoder = Sequential([\n",
    "    encoder,\n",
    "    decoder\n",
    "])\n",
    "autoencoder.compile(Adam(1e-4), loss = 'mse')"
   ]
  },
  {
   "cell_type": "code",
   "execution_count": 8,
   "metadata": {
    "collapsed": true
   },
   "outputs": [],
   "source": [
    "fit_params = {\n",
    "    'x'         : X_shoes,\n",
    "    'y'         : X_shoes,\n",
    "    'batch_size': batch_size,\n",
    "    'epochs'    : 30\n",
    "}"
   ]
  },
  {
   "cell_type": "code",
   "execution_count": 9,
   "metadata": {},
   "outputs": [
    {
     "name": "stdout",
     "output_type": "stream",
     "text": [
      "Epoch 1/30\n",
      "18000/18000 [==============================] - 26s - loss: 0.4970    \n",
      "Epoch 2/30\n",
      "18000/18000 [==============================] - 24s - loss: 0.2642    \n",
      "Epoch 3/30\n",
      "18000/18000 [==============================] - 24s - loss: 0.2313    \n",
      "Epoch 4/30\n",
      "18000/18000 [==============================] - 24s - loss: 0.2169    \n",
      "Epoch 5/30\n",
      "18000/18000 [==============================] - 24s - loss: 0.2077    \n",
      "Epoch 6/30\n",
      "18000/18000 [==============================] - 24s - loss: 0.2013    \n",
      "Epoch 7/30\n",
      "18000/18000 [==============================] - 24s - loss: 0.1962    \n",
      "Epoch 8/30\n",
      "18000/18000 [==============================] - 24s - loss: 0.1921    \n",
      "Epoch 9/30\n",
      "18000/18000 [==============================] - 24s - loss: 0.1888    \n",
      "Epoch 10/30\n",
      "18000/18000 [==============================] - 24s - loss: 0.1860    \n",
      "Epoch 11/30\n",
      "18000/18000 [==============================] - 24s - loss: 0.1833    \n",
      "Epoch 12/30\n",
      "18000/18000 [==============================] - 23s - loss: 0.1813    \n",
      "Epoch 13/30\n",
      "18000/18000 [==============================] - 23s - loss: 0.1790    \n",
      "Epoch 14/30\n",
      "18000/18000 [==============================] - 23s - loss: 0.1773    \n",
      "Epoch 15/30\n",
      "18000/18000 [==============================] - 23s - loss: 0.1757    \n",
      "Epoch 16/30\n",
      "18000/18000 [==============================] - 23s - loss: 0.1740    \n",
      "Epoch 17/30\n",
      "18000/18000 [==============================] - 23s - loss: 0.1727    \n",
      "Epoch 18/30\n",
      "18000/18000 [==============================] - 23s - loss: 0.1714    \n",
      "Epoch 19/30\n",
      "18000/18000 [==============================] - 23s - loss: 0.1701    \n",
      "Epoch 20/30\n",
      "18000/18000 [==============================] - 23s - loss: 0.1687    \n",
      "Epoch 21/30\n",
      "18000/18000 [==============================] - 23s - loss: 0.1675    \n",
      "Epoch 22/30\n",
      "18000/18000 [==============================] - 23s - loss: 0.1669    \n",
      "Epoch 23/30\n",
      "18000/18000 [==============================] - 23s - loss: 0.1656    \n",
      "Epoch 24/30\n",
      "18000/18000 [==============================] - 25s - loss: 0.1647    \n",
      "Epoch 25/30\n",
      "18000/18000 [==============================] - 24s - loss: 0.1636    \n",
      "Epoch 26/30\n",
      "18000/18000 [==============================] - 24s - loss: 0.1630    \n",
      "Epoch 27/30\n",
      "18000/18000 [==============================] - 24s - loss: 0.1621    \n",
      "Epoch 28/30\n",
      "18000/18000 [==============================] - 24s - loss: 0.1614    \n",
      "Epoch 29/30\n",
      "18000/18000 [==============================] - 24s - loss: 0.1607    \n",
      "Epoch 30/30\n",
      "18000/18000 [==============================] - 24s - loss: 0.1600    \n"
     ]
    },
    {
     "data": {
      "text/plain": [
       "<keras.callbacks.History at 0x7faea9f947b8>"
      ]
     },
     "execution_count": 9,
     "metadata": {},
     "output_type": "execute_result"
    }
   ],
   "source": [
    "autoencoder.fit(**fit_params)"
   ]
  },
  {
   "cell_type": "code",
   "execution_count": 10,
   "metadata": {},
   "outputs": [
    {
     "data": {
      "text/plain": [
       "<matplotlib.image.AxesImage at 0x7fae68130240>"
      ]
     },
     "execution_count": 10,
     "metadata": {},
     "output_type": "execute_result"
    },
    {
     "data": {
      "image/png": "[encoded data removed]",
      "text/plain": [
       "<matplotlib.figure.Figure at 0x7fae8d454198>"
      ]
     },
     "metadata": {},
     "output_type": "display_data"
    }
   ],
   "source": [
    "img = X_shoes[18]\n",
    "plt.imshow(img.squeeze(), cmap = 'gray')"
   ]
  },
  {
   "cell_type": "code",
   "execution_count": 11,
   "metadata": {},
   "outputs": [
    {
     "data": {
      "text/plain": [
       "<matplotlib.image.AxesImage at 0x7fae544768d0>"
      ]
     },
     "execution_count": 11,
     "metadata": {},
     "output_type": "execute_result"
    },
    {
     "data": {
      "image/png": "[encoded data removed]",
      "text/plain": [
       "<matplotlib.figure.Figure at 0x7fae680d9e10>"
      ]
     },
     "metadata": {},
     "output_type": "display_data"
    }
   ],
   "source": [
    "img_ = autoencoder.predict(np.expand_dims(img, 0))\n",
    "plt.imshow(img_.squeeze(), cmap = 'gray')"
   ]
  },
  {
   "cell_type": "code",
   "execution_count": 12,
   "metadata": {},
   "outputs": [
    {
     "data": {
      "text/plain": [
       "<matplotlib.image.AxesImage at 0x7fae4dfe3cf8>"
      ]
     },
     "execution_count": 12,
     "metadata": {},
     "output_type": "execute_result"
    },
    {
     "data": {
      "image/png": "[encoded data removed]",
      "text/plain": [
       "<matplotlib.figure.Figure at 0x7fae5449ff98>"
      ]
     },
     "metadata": {},
     "output_type": "display_data"
    }
   ],
   "source": [
    "img = X_shoes[20]\n",
    "plt.imshow(img.squeeze(), cmap = 'gray')"
   ]
  },
  {
   "cell_type": "code",
   "execution_count": 13,
   "metadata": {},
   "outputs": [
    {
     "data": {
      "text/plain": [
       "<matplotlib.image.AxesImage at 0x7fae4df7a630>"
      ]
     },
     "execution_count": 13,
     "metadata": {},
     "output_type": "execute_result"
    },
    {
     "data": {
      "image/png": "[encoded data removed]",
      "text/plain": [
       "<matplotlib.figure.Figure at 0x7fae4df944e0>"
      ]
     },
     "metadata": {},
     "output_type": "display_data"
    }
   ],
   "source": [
    "img_ = autoencoder.predict(np.expand_dims(img, 0))\n",
    "plt.imshow(img_.squeeze(), cmap = 'gray')"
   ]
  }
 ],
 "metadata": {
  "kernelspec": {
   "display_name": "Python 3",
   "language": "python",
   "name": "python3"
  },
  "language_info": {
   "codemirror_mode": {
    "name": "ipython",
    "version": 3
   },
   "file_extension": ".py",
   "mimetype": "text/x-python",
   "name": "python",
   "nbconvert_exporter": "python",
   "pygments_lexer": "ipython3",
   "version": "3.6.1"
  }
 },
 "nbformat": 4,
 "nbformat_minor": 2
}
