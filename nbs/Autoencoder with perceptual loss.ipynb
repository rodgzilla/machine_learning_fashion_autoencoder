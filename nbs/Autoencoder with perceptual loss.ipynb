{
 "cells": [
  {
   "cell_type": "code",
   "execution_count": 1,
   "metadata": {},
   "outputs": [
    {
     "name": "stderr",
     "output_type": "stream",
     "text": [
      "Using TensorFlow backend.\n"
     ]
    }
   ],
   "source": [
    "%matplotlib inline\n",
    "import numpy as np\n",
    "import keras\n",
    "import keras.backend as K\n",
    "from functools import reduce\n",
    "\n",
    "import matplotlib.pyplot as plt\n",
    "\n",
    "from keras.models         import Sequential\n",
    "from keras.models         import Model\n",
    "from keras.layers         import Dense\n",
    "from keras.layers         import Convolution2D\n",
    "from keras.layers         import AveragePooling2D\n",
    "from keras.layers         import MaxPooling2D\n",
    "from keras.layers         import UpSampling2D\n",
    "from keras.layers         import Reshape\n",
    "from keras.layers         import Flatten\n",
    "from keras.metrics        import mse\n",
    "from keras.optimizers     import Adam\n",
    "from keras.utils.np_utils import to_categorical\n",
    "\n",
    "path_to_fashion_mnist = '../../datasets/fashion-mnist/'\n",
    "\n",
    "import sys\n",
    "sys.path.insert(0, path_to_fashion_mnist)\n",
    "from utils import mnist_reader"
   ]
  },
  {
   "cell_type": "code",
   "execution_count": 2,
   "metadata": {
    "collapsed": true
   },
   "outputs": [],
   "source": [
    "encoding_size = 10\n",
    "batch_size    = 64"
   ]
  },
  {
   "cell_type": "code",
   "execution_count": 3,
   "metadata": {
    "collapsed": true
   },
   "outputs": [],
   "source": [
    "X_train, y_train = mnist_reader.load_mnist(path_to_fashion_mnist + 'data/fashion', kind = 'train')\n",
    "X_train          = X_train.reshape(-1, 28, 28, 1)\n",
    "X_train          = (X_train - X_train.mean()) / X_train.std()\n",
    "y_train          = to_categorical(y_train)"
   ]
  },
  {
   "cell_type": "code",
   "execution_count": 4,
   "metadata": {
    "collapsed": true
   },
   "outputs": [],
   "source": [
    "encoder = Sequential([\n",
    "    Convolution2D(32, 3, padding = 'same', input_shape = (28, 28, 1), activation = 'relu'),\n",
    "    Convolution2D(32, 3, padding = 'same', activation = 'relu'),\n",
    "    AveragePooling2D(),\n",
    "    Convolution2D(64, 3, padding = 'same', activation = 'relu'),\n",
    "    Convolution2D(64, 3, padding = 'same', activation = 'relu'),    \n",
    "    Flatten(),\n",
    "    Dense(encoding_size, activation = 'tanh')\n",
    "])"
   ]
  },
  {
   "cell_type": "code",
   "execution_count": 5,
   "metadata": {
    "collapsed": true
   },
   "outputs": [],
   "source": [
    "decoder = Sequential([\n",
    "    Dense(49, input_shape = (encoding_size,), activation = 'relu'),\n",
    "    Reshape((7, 7, 1)),\n",
    "    Convolution2D(128, 3, padding = 'same', activation = 'relu'),\n",
    "    UpSampling2D(),\n",
    "    Convolution2D(64, 3, padding = 'same', activation = 'relu'),\n",
    "    UpSampling2D(),\n",
    "    Convolution2D(32, 3, padding = 'same', activation = 'relu'),\n",
    "    Convolution2D(1, 3, padding = 'same', activation = 'tanh')\n",
    "])"
   ]
  },
  {
   "cell_type": "code",
   "execution_count": 6,
   "metadata": {
    "collapsed": true
   },
   "outputs": [],
   "source": [
    "autoencoder = Sequential([\n",
    "    encoder,\n",
    "    decoder\n",
    "])\n",
    "autoencoder.compile(Adam(1e-4), loss = 'mse')"
   ]
  },
  {
   "cell_type": "code",
   "execution_count": 7,
   "metadata": {
    "collapsed": true
   },
   "outputs": [],
   "source": [
    "classifier = Sequential([\n",
    "    Convolution2D(64, 3, padding = 'same', activation = 'relu', input_shape = (28, 28, 1)),\n",
    "    MaxPooling2D(),\n",
    "    Convolution2D(128, 3, padding = 'same', activation = 'relu'),\n",
    "    Flatten(),\n",
    "    Dense(10,  activation = 'softmax')\n",
    "])\n",
    "classifier.compile(Adam(1e-4), loss = 'categorical_crossentropy', metrics = ['accuracy'])"
   ]
  },
  {
   "cell_type": "code",
   "execution_count": 8,
   "metadata": {
    "collapsed": true
   },
   "outputs": [],
   "source": [
    "last_convolution_layer = classifier.layers[2]\n",
    "perceptual_part        = Model(classifier.input, last_convolution_layer.output)"
   ]
  },
  {
   "cell_type": "code",
   "execution_count": 9,
   "metadata": {},
   "outputs": [],
   "source": [
    "classifier_fit_params = {\n",
    "    'x'              : X_train,\n",
    "    'y'              : y_train,\n",
    "    'epochs'         : 20,\n",
    "    'batch_size'     : batch_size,\n",
    "}"
   ]
  },
  {
   "cell_type": "code",
   "execution_count": 10,
   "metadata": {},
   "outputs": [
    {
     "name": "stdout",
     "output_type": "stream",
     "text": [
      "Epoch 1/20\n",
      "60000/60000 [==============================] - 30s - loss: 0.5207 - acc: 0.8204    \n",
      "Epoch 2/20\n",
      "60000/60000 [==============================] - 28s - loss: 0.3530 - acc: 0.8752    \n",
      "Epoch 3/20\n",
      "60000/60000 [==============================] - 28s - loss: 0.3156 - acc: 0.8891    \n",
      "Epoch 4/20\n",
      "60000/60000 [==============================] - 28s - loss: 0.2903 - acc: 0.8976    \n",
      "Epoch 5/20\n",
      "60000/60000 [==============================] - 28s - loss: 0.2728 - acc: 0.9036    \n",
      "Epoch 6/20\n",
      "60000/60000 [==============================] - 28s - loss: 0.2575 - acc: 0.9083    \n",
      "Epoch 7/20\n",
      "60000/60000 [==============================] - 28s - loss: 0.2432 - acc: 0.9139    \n",
      "Epoch 8/20\n",
      "60000/60000 [==============================] - 28s - loss: 0.2321 - acc: 0.9178    \n",
      "Epoch 9/20\n",
      "60000/60000 [==============================] - 28s - loss: 0.2229 - acc: 0.9207    \n",
      "Epoch 10/20\n",
      "60000/60000 [==============================] - 28s - loss: 0.2126 - acc: 0.9244    \n",
      "Epoch 11/20\n",
      "60000/60000 [==============================] - 28s - loss: 0.2028 - acc: 0.9280    \n",
      "Epoch 12/20\n",
      "60000/60000 [==============================] - 28s - loss: 0.1955 - acc: 0.9304    \n",
      "Epoch 13/20\n",
      "60000/60000 [==============================] - 28s - loss: 0.1880 - acc: 0.9334    \n",
      "Epoch 14/20\n",
      "60000/60000 [==============================] - 28s - loss: 0.1794 - acc: 0.9363    \n",
      "Epoch 15/20\n",
      "60000/60000 [==============================] - 28s - loss: 0.1720 - acc: 0.9393    \n",
      "Epoch 16/20\n",
      "60000/60000 [==============================] - 28s - loss: 0.1671 - acc: 0.9415    \n",
      "Epoch 17/20\n",
      "60000/60000 [==============================] - 28s - loss: 0.1605 - acc: 0.9434    \n",
      "Epoch 18/20\n",
      "60000/60000 [==============================] - 28s - loss: 0.1552 - acc: 0.9445    \n",
      "Epoch 19/20\n",
      "60000/60000 [==============================] - 28s - loss: 0.1491 - acc: 0.9473    \n",
      "Epoch 20/20\n",
      "60000/60000 [==============================] - 28s - loss: 0.1437 - acc: 0.9495    \n"
     ]
    },
    {
     "data": {
      "text/plain": [
       "<keras.callbacks.History at 0x7f1fb3997198>"
      ]
     },
     "execution_count": 10,
     "metadata": {},
     "output_type": "execute_result"
    }
   ],
   "source": [
    "classifier.fit(**classifier_fit_params)"
   ]
  },
  {
   "cell_type": "code",
   "execution_count": 11,
   "metadata": {
    "collapsed": true
   },
   "outputs": [],
   "source": [
    "classifier.trainable = False\n",
    "for layer in classifier.layers:\n",
    "    layer.trainable = False"
   ]
  },
  {
   "cell_type": "code",
   "execution_count": 21,
   "metadata": {},
   "outputs": [],
   "source": [
    "perceptual_model = Sequential([\n",
    "    autoencoder,\n",
    "    perceptual_part\n",
    "])\n",
    "perceptual_model.compile(Adam(1e-4), loss = 'mse')"
   ]
  },
  {
   "cell_type": "code",
   "execution_count": 13,
   "metadata": {
    "collapsed": true
   },
   "outputs": [],
   "source": [
    "y_train_perceptual = perceptual_part.predict(X_train, batch_size = batch_size)"
   ]
  },
  {
   "cell_type": "code",
   "execution_count": 19,
   "metadata": {
    "collapsed": true
   },
   "outputs": [],
   "source": [
    "perceptual_model_fit_params = {\n",
    "    'x'         : X_train,\n",
    "    'y'         : y_train_perceptual,\n",
    "    'batch_size': batch_size,\n",
    "    'epochs'    : 30\n",
    "}"
   ]
  },
  {
   "cell_type": "code",
   "execution_count": 22,
   "metadata": {},
   "outputs": [
    {
     "name": "stdout",
     "output_type": "stream",
     "text": [
      "Epoch 1/30\n",
      "60000/60000 [==============================] - 102s - loss: 0.0545   \n",
      "Epoch 2/30\n",
      "60000/60000 [==============================] - 102s - loss: 0.0332   \n",
      "Epoch 3/30\n",
      "60000/60000 [==============================] - 102s - loss: 0.0300   \n",
      "Epoch 4/30\n",
      "60000/60000 [==============================] - 102s - loss: 0.0285   \n",
      "Epoch 5/30\n",
      "60000/60000 [==============================] - 102s - loss: 0.0275   \n",
      "Epoch 6/30\n",
      "60000/60000 [==============================] - 102s - loss: 0.0267   \n",
      "Epoch 7/30\n",
      "60000/60000 [==============================] - 102s - loss: 0.0261   \n",
      "Epoch 8/30\n",
      "60000/60000 [==============================] - 102s - loss: 0.0257   \n",
      "Epoch 9/30\n",
      "60000/60000 [==============================] - 102s - loss: 0.0253   \n",
      "Epoch 10/30\n",
      "60000/60000 [==============================] - 102s - loss: 0.0250   \n",
      "Epoch 11/30\n",
      "60000/60000 [==============================] - 102s - loss: 0.0247   \n",
      "Epoch 12/30\n",
      "60000/60000 [==============================] - 102s - loss: 0.0245   \n",
      "Epoch 13/30\n",
      "60000/60000 [==============================] - 102s - loss: 0.0243   \n",
      "Epoch 14/30\n",
      "60000/60000 [==============================] - 102s - loss: 0.0241   \n",
      "Epoch 15/30\n",
      "60000/60000 [==============================] - 102s - loss: 0.0239   \n",
      "Epoch 16/30\n",
      "60000/60000 [==============================] - 102s - loss: 0.0237   \n",
      "Epoch 17/30\n",
      "60000/60000 [==============================] - 102s - loss: 0.0236   \n",
      "Epoch 18/30\n",
      "60000/60000 [==============================] - 102s - loss: 0.0234   \n",
      "Epoch 19/30\n",
      "60000/60000 [==============================] - 102s - loss: 0.0233   \n",
      "Epoch 20/30\n",
      "60000/60000 [==============================] - 102s - loss: 0.0232   \n",
      "Epoch 21/30\n",
      "60000/60000 [==============================] - 102s - loss: 0.0230   \n",
      "Epoch 22/30\n",
      "60000/60000 [==============================] - 102s - loss: 0.0230   \n",
      "Epoch 23/30\n",
      "60000/60000 [==============================] - 102s - loss: 0.0228   \n",
      "Epoch 24/30\n",
      "60000/60000 [==============================] - 102s - loss: 0.0227   \n",
      "Epoch 25/30\n",
      "60000/60000 [==============================] - 102s - loss: 0.0226   \n",
      "Epoch 26/30\n",
      "60000/60000 [==============================] - 102s - loss: 0.0225   \n",
      "Epoch 27/30\n",
      "60000/60000 [==============================] - 101s - loss: 0.0224   \n",
      "Epoch 28/30\n",
      "60000/60000 [==============================] - 102s - loss: 0.0223   \n",
      "Epoch 29/30\n",
      "60000/60000 [==============================] - 102s - loss: 0.0222   \n",
      "Epoch 30/30\n",
      "60000/60000 [==============================] - 101s - loss: 0.0222   \n"
     ]
    },
    {
     "data": {
      "text/plain": [
       "<keras.callbacks.History at 0x7f1f96c935c0>"
      ]
     },
     "execution_count": 22,
     "metadata": {},
     "output_type": "execute_result"
    }
   ],
   "source": [
    "perceptual_model.fit(**perceptual_model_fit_params)"
   ]
  },
  {
   "cell_type": "code",
   "execution_count": 23,
   "metadata": {},
   "outputs": [
    {
     "data": {
      "text/plain": [
       "<matplotlib.image.AxesImage at 0x7f1f3c0574e0>"
      ]
     },
     "execution_count": 23,
     "metadata": {},
     "output_type": "execute_result"
    },
    {
     "data": {
      "image/png": "[encoded data removed]",
      "text/plain": [
       "<matplotlib.figure.Figure at 0x7f1f3c12c710>"
      ]
     },
     "metadata": {},
     "output_type": "display_data"
    }
   ],
   "source": [
    "img = X_train[18]\n",
    "plt.imshow(img.squeeze(), cmap = 'gray')"
   ]
  },
  {
   "cell_type": "code",
   "execution_count": 24,
   "metadata": {},
   "outputs": [
    {
     "data": {
      "text/plain": [
       "<matplotlib.image.AxesImage at 0x7f1f3478c9e8>"
      ]
     },
     "execution_count": 24,
     "metadata": {},
     "output_type": "execute_result"
    },
    {
     "data": {
      "image/png": "[encoded data removed]",
      "text/plain": [
       "<matplotlib.figure.Figure at 0x7f1f3c057da0>"
      ]
     },
     "metadata": {},
     "output_type": "display_data"
    }
   ],
   "source": [
    "img_ = autoencoder.predict(np.expand_dims(img, 0))\n",
    "plt.imshow(img_.squeeze(), cmap = 'gray')"
   ]
  },
  {
   "cell_type": "code",
   "execution_count": 25,
   "metadata": {},
   "outputs": [
    {
     "data": {
      "text/plain": [
       "<matplotlib.image.AxesImage at 0x7f1f347296a0>"
      ]
     },
     "execution_count": 25,
     "metadata": {},
     "output_type": "execute_result"
    },
    {
     "data": {
      "image/png": "[encoded data removed]",
      "text/plain": [
       "<matplotlib.figure.Figure at 0x7f1f34743400>"
      ]
     },
     "metadata": {},
     "output_type": "display_data"
    }
   ],
   "source": [
    "img = X_train[20]\n",
    "plt.imshow(img.squeeze(), cmap = 'gray')"
   ]
  },
  {
   "cell_type": "code",
   "execution_count": 26,
   "metadata": {},
   "outputs": [
    {
     "data": {
      "text/plain": [
       "<matplotlib.image.AxesImage at 0x7f1f346b7e80>"
      ]
     },
     "execution_count": 26,
     "metadata": {},
     "output_type": "execute_result"
    },
    {
     "data": {
      "image/png": "[encoded data removed]",
      "text/plain": [
       "<matplotlib.figure.Figure at 0x7f1f346d2358>"
      ]
     },
     "metadata": {},
     "output_type": "display_data"
    }
   ],
   "source": [
    "img_ = autoencoder.predict(np.expand_dims(img, 0))\n",
    "plt.imshow(img_.squeeze(), cmap = 'gray')"
   ]
  }
 ],
 "metadata": {
  "kernelspec": {
   "display_name": "Python 3",
   "language": "python",
   "name": "python3"
  },
  "language_info": {
   "codemirror_mode": {
    "name": "ipython",
    "version": 3
   },
   "file_extension": ".py",
   "mimetype": "text/x-python",
   "name": "python",
   "nbconvert_exporter": "python",
   "pygments_lexer": "ipython3",
   "version": "3.6.1"
  }
 },
 "nbformat": 4,
 "nbformat_minor": 2
}
